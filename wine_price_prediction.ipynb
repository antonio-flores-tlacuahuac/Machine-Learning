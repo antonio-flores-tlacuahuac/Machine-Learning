{
  "nbformat": 4,
  "nbformat_minor": 0,
  "metadata": {
    "kernelspec": {
      "display_name": "Python 3.7 (tensorflow)",
      "language": "python",
      "name": "tensorflow"
    },
    "language_info": {
      "codemirror_mode": {
        "name": "ipython",
        "version": 3
      },
      "file_extension": ".py",
      "mimetype": "text/x-python",
      "name": "python",
      "nbconvert_exporter": "python",
      "pygments_lexer": "ipython3",
      "version": "3.7.7"
    },
    "colab": {
      "name": "wine-price-prediction.ipynb",
      "provenance": [],
      "collapsed_sections": [],
      "machine_shape": "hm",
      "include_colab_link": true
    }
  },
  "cells": [
    {
      "cell_type": "markdown",
      "metadata": {
        "id": "view-in-github",
        "colab_type": "text"
      },
      "source": [
        "<a href=\"https://colab.research.google.com/github/antonio-flores-tlacuahuac/Machine-Learning/blob/master/wine_price_prediction.ipynb\" target=\"_parent\"><img src=\"https://colab.research.google.com/assets/colab-badge.svg\" alt=\"Open In Colab\"/></a>"
      ]
    },
    {
      "cell_type": "code",
      "metadata": {
        "id": "IWkB7VmIC38w",
        "colab_type": "code",
        "colab": {}
      },
      "source": [
        "from __future__ import absolute_import\n",
        "from __future__ import division\n",
        "from __future__ import print_function"
      ],
      "execution_count": 0,
      "outputs": []
    },
    {
      "cell_type": "code",
      "metadata": {
        "id": "VkmEloP6DRJu",
        "colab_type": "code",
        "colab": {}
      },
      "source": [
        "import itertools\n",
        "import os\n",
        "import math"
      ],
      "execution_count": 0,
      "outputs": []
    },
    {
      "cell_type": "code",
      "metadata": {
        "id": "0p58DIXjC387",
        "colab_type": "code",
        "colab": {}
      },
      "source": [
        "import numpy as np"
      ],
      "execution_count": 0,
      "outputs": []
    },
    {
      "cell_type": "code",
      "metadata": {
        "id": "prCQn274C39F",
        "colab_type": "code",
        "colab": {}
      },
      "source": [
        "import pandas as pd"
      ],
      "execution_count": 0,
      "outputs": []
    },
    {
      "cell_type": "code",
      "metadata": {
        "id": "OThA8b0DC39L",
        "colab_type": "code",
        "colab": {}
      },
      "source": [
        "import tensorflow as tf"
      ],
      "execution_count": 0,
      "outputs": []
    },
    {
      "cell_type": "code",
      "metadata": {
        "id": "P_K6VFYmC39S",
        "colab_type": "code",
        "colab": {}
      },
      "source": [
        "from sklearn.preprocessing import LabelEncoder"
      ],
      "execution_count": 0,
      "outputs": []
    },
    {
      "cell_type": "code",
      "metadata": {
        "id": "TOmHlqD2C39Z",
        "colab_type": "code",
        "colab": {}
      },
      "source": [
        "from tensorflow import keras"
      ],
      "execution_count": 0,
      "outputs": []
    },
    {
      "cell_type": "code",
      "metadata": {
        "id": "0POevm4wC39e",
        "colab_type": "code",
        "colab": {}
      },
      "source": [
        "layers = keras.layers"
      ],
      "execution_count": 0,
      "outputs": []
    },
    {
      "cell_type": "code",
      "metadata": {
        "id": "FCf2xl1eC39j",
        "colab_type": "code",
        "colab": {
          "base_uri": "https://localhost:8080/",
          "height": 34
        },
        "outputId": "aeaa0c3d-dbe6-4c04-8b8b-12d7533d3bb8"
      },
      "source": [
        "print(\"You have tensorflow version: \",tf.__version__)"
      ],
      "execution_count": 9,
      "outputs": [
        {
          "output_type": "stream",
          "text": [
            "You have tensorflow version:  2.2.0-rc4\n"
          ],
          "name": "stdout"
        }
      ]
    },
    {
      "cell_type": "code",
      "metadata": {
        "id": "MQzu6QXZC39q",
        "colab_type": "code",
        "colab": {}
      },
      "source": [
        "URL = \"https://storage.googleapis.com/sara-cloud-ml/wine_data.csv\""
      ],
      "execution_count": 0,
      "outputs": []
    },
    {
      "cell_type": "code",
      "metadata": {
        "id": "ChrabDJsHI4i",
        "colab_type": "code",
        "colab": {}
      },
      "source": [
        "path = tf.keras.utils.get_file(URL.split('/')[-1],URL)"
      ],
      "execution_count": 0,
      "outputs": []
    },
    {
      "cell_type": "code",
      "metadata": {
        "id": "ZtnqJTw1IUMY",
        "colab_type": "code",
        "colab": {}
      },
      "source": [
        "data = pd.read_csv(path)"
      ],
      "execution_count": 0,
      "outputs": []
    },
    {
      "cell_type": "code",
      "metadata": {
        "id": "ZLX2rn7FC39v",
        "colab_type": "code",
        "colab": {}
      },
      "source": [
        "data = data.sample(frac=1)"
      ],
      "execution_count": 0,
      "outputs": []
    },
    {
      "cell_type": "code",
      "metadata": {
        "id": "UQfcRtplC391",
        "colab_type": "code",
        "colab": {
          "base_uri": "https://localhost:8080/",
          "height": 310
        },
        "outputId": "760369a0-5a9b-47ea-b84b-ae1a335fb8e3"
      },
      "source": [
        "data.head()"
      ],
      "execution_count": 14,
      "outputs": [
        {
          "output_type": "execute_result",
          "data": {
            "text/html": [
              "<div>\n",
              "<style scoped>\n",
              "    .dataframe tbody tr th:only-of-type {\n",
              "        vertical-align: middle;\n",
              "    }\n",
              "\n",
              "    .dataframe tbody tr th {\n",
              "        vertical-align: top;\n",
              "    }\n",
              "\n",
              "    .dataframe thead th {\n",
              "        text-align: right;\n",
              "    }\n",
              "</style>\n",
              "<table border=\"1\" class=\"dataframe\">\n",
              "  <thead>\n",
              "    <tr style=\"text-align: right;\">\n",
              "      <th></th>\n",
              "      <th>Unnamed: 0</th>\n",
              "      <th>country</th>\n",
              "      <th>description</th>\n",
              "      <th>designation</th>\n",
              "      <th>points</th>\n",
              "      <th>price</th>\n",
              "      <th>province</th>\n",
              "      <th>region_1</th>\n",
              "      <th>region_2</th>\n",
              "      <th>variety</th>\n",
              "      <th>winery</th>\n",
              "    </tr>\n",
              "  </thead>\n",
              "  <tbody>\n",
              "    <tr>\n",
              "      <th>26278</th>\n",
              "      <td>26278</td>\n",
              "      <td>US</td>\n",
              "      <td>A solid wine. At the equivalent of $5 for a re...</td>\n",
              "      <td>Proprietor's Reserve</td>\n",
              "      <td>85</td>\n",
              "      <td>10.0</td>\n",
              "      <td>California</td>\n",
              "      <td>California</td>\n",
              "      <td>California Other</td>\n",
              "      <td>Cabernet Sauvignon</td>\n",
              "      <td>Glen Ellen</td>\n",
              "    </tr>\n",
              "    <tr>\n",
              "      <th>108319</th>\n",
              "      <td>108319</td>\n",
              "      <td>France</td>\n",
              "      <td>90-92 Barrel sample. Good balance between rich...</td>\n",
              "      <td>Barrel sample</td>\n",
              "      <td>91</td>\n",
              "      <td>NaN</td>\n",
              "      <td>Bordeaux</td>\n",
              "      <td>Pessac-Léognan</td>\n",
              "      <td>NaN</td>\n",
              "      <td>Bordeaux-style White Blend</td>\n",
              "      <td>Château Picque Caillou</td>\n",
              "    </tr>\n",
              "    <tr>\n",
              "      <th>92267</th>\n",
              "      <td>92267</td>\n",
              "      <td>France</td>\n",
              "      <td>This wine makes you work harder than many of i...</td>\n",
              "      <td>NaN</td>\n",
              "      <td>85</td>\n",
              "      <td>15.0</td>\n",
              "      <td>Alsace</td>\n",
              "      <td>Alsace</td>\n",
              "      <td>NaN</td>\n",
              "      <td>Riesling</td>\n",
              "      <td>Dopff &amp; Irion</td>\n",
              "    </tr>\n",
              "    <tr>\n",
              "      <th>57720</th>\n",
              "      <td>57720</td>\n",
              "      <td>US</td>\n",
              "      <td>Shows classic Muscat flavors of oranges and ta...</td>\n",
              "      <td>NaN</td>\n",
              "      <td>86</td>\n",
              "      <td>24.0</td>\n",
              "      <td>California</td>\n",
              "      <td>Paso Robles</td>\n",
              "      <td>Central Coast</td>\n",
              "      <td>Muscat Canelli</td>\n",
              "      <td>Orchid Hill</td>\n",
              "    </tr>\n",
              "    <tr>\n",
              "      <th>35204</th>\n",
              "      <td>35204</td>\n",
              "      <td>US</td>\n",
              "      <td>With moderate alcohol, this Pinot is silky and...</td>\n",
              "      <td>Winery Block Estate</td>\n",
              "      <td>91</td>\n",
              "      <td>38.0</td>\n",
              "      <td>California</td>\n",
              "      <td>Russian River Valley</td>\n",
              "      <td>Sonoma</td>\n",
              "      <td>Pinot Noir</td>\n",
              "      <td>Balletto</td>\n",
              "    </tr>\n",
              "  </tbody>\n",
              "</table>\n",
              "</div>"
            ],
            "text/plain": [
              "        Unnamed: 0 country  ...                     variety                  winery\n",
              "26278        26278      US  ...          Cabernet Sauvignon              Glen Ellen\n",
              "108319      108319  France  ...  Bordeaux-style White Blend  Château Picque Caillou\n",
              "92267        92267  France  ...                    Riesling           Dopff & Irion\n",
              "57720        57720      US  ...              Muscat Canelli             Orchid Hill\n",
              "35204        35204      US  ...                  Pinot Noir                Balletto\n",
              "\n",
              "[5 rows x 11 columns]"
            ]
          },
          "metadata": {
            "tags": []
          },
          "execution_count": 14
        }
      ]
    },
    {
      "cell_type": "code",
      "metadata": {
        "id": "VItq7knPC396",
        "colab_type": "code",
        "colab": {}
      },
      "source": [
        "data = data[pd.notnull(data['country'])]"
      ],
      "execution_count": 0,
      "outputs": []
    },
    {
      "cell_type": "code",
      "metadata": {
        "id": "3xj3St-LC39_",
        "colab_type": "code",
        "colab": {}
      },
      "source": [
        "data = data[pd.notnull(data['price'])]"
      ],
      "execution_count": 0,
      "outputs": []
    },
    {
      "cell_type": "code",
      "metadata": {
        "id": "Cc1JvPpkC3-E",
        "colab_type": "code",
        "colab": {}
      },
      "source": [
        "data = data.drop(data.columns[0], axis=1)"
      ],
      "execution_count": 0,
      "outputs": []
    },
    {
      "cell_type": "code",
      "metadata": {
        "id": "_wT2baNWC3-J",
        "colab_type": "code",
        "colab": {}
      },
      "source": [
        "variety_threshold = 500"
      ],
      "execution_count": 0,
      "outputs": []
    },
    {
      "cell_type": "code",
      "metadata": {
        "id": "CKdXzGZRC3-O",
        "colab_type": "code",
        "colab": {}
      },
      "source": [
        "value_counts = data['variety'].value_counts()"
      ],
      "execution_count": 0,
      "outputs": []
    },
    {
      "cell_type": "code",
      "metadata": {
        "id": "8KyhNIIEC3-S",
        "colab_type": "code",
        "colab": {}
      },
      "source": [
        "to_remove = value_counts[value_counts <= variety_threshold].index"
      ],
      "execution_count": 0,
      "outputs": []
    },
    {
      "cell_type": "code",
      "metadata": {
        "id": "b2wEGhQZC3-g",
        "colab_type": "code",
        "colab": {}
      },
      "source": [
        "data.replace(to_remove, np.nan, inplace = True)"
      ],
      "execution_count": 0,
      "outputs": []
    },
    {
      "cell_type": "code",
      "metadata": {
        "id": "rcFG9EweC3-j",
        "colab_type": "code",
        "colab": {}
      },
      "source": [
        "data = data[pd.notnull(data['variety'])]"
      ],
      "execution_count": 0,
      "outputs": []
    },
    {
      "cell_type": "code",
      "metadata": {
        "id": "l2TLXeH-C3-m",
        "colab_type": "code",
        "colab": {}
      },
      "source": [
        "#train_size = int(len(data)*0.8)\n",
        "train_size = int(len(data)*0.6)"
      ],
      "execution_count": 0,
      "outputs": []
    },
    {
      "cell_type": "code",
      "metadata": {
        "id": "a32oWBOiC3-p",
        "colab_type": "code",
        "colab": {
          "base_uri": "https://localhost:8080/",
          "height": 34
        },
        "outputId": "48ff9d93-3a52-4ff3-82c9-667f58a4c1b9"
      },
      "source": [
        "print(\"Train size : %d\" % train_size )"
      ],
      "execution_count": 24,
      "outputs": [
        {
          "output_type": "stream",
          "text": [
            "Train size : 71734\n"
          ],
          "name": "stdout"
        }
      ]
    },
    {
      "cell_type": "code",
      "metadata": {
        "id": "V66eFJ74C3-v",
        "colab_type": "code",
        "colab": {
          "base_uri": "https://localhost:8080/",
          "height": 34
        },
        "outputId": "6e4d77cc-c0ff-49d0-d2d0-86bdde2a4e2c"
      },
      "source": [
        "print(\"Test size : %d\" % (len(data) - train_size))"
      ],
      "execution_count": 25,
      "outputs": [
        {
          "output_type": "stream",
          "text": [
            "Test size : 47824\n"
          ],
          "name": "stdout"
        }
      ]
    },
    {
      "cell_type": "code",
      "metadata": {
        "id": "OPYvR6pWC3-0",
        "colab_type": "code",
        "colab": {}
      },
      "source": [
        "description_train = data['description'][:train_size]"
      ],
      "execution_count": 0,
      "outputs": []
    },
    {
      "cell_type": "code",
      "metadata": {
        "id": "45VXM4YkC3-3",
        "colab_type": "code",
        "colab": {}
      },
      "source": [
        "variety_train = data['variety'][:train_size]"
      ],
      "execution_count": 0,
      "outputs": []
    },
    {
      "cell_type": "code",
      "metadata": {
        "id": "YJF5Cz6yC3-6",
        "colab_type": "code",
        "colab": {}
      },
      "source": [
        "labels_train = data['price'][:train_size]"
      ],
      "execution_count": 0,
      "outputs": []
    },
    {
      "cell_type": "code",
      "metadata": {
        "id": "6ypfcojtC3-9",
        "colab_type": "code",
        "colab": {}
      },
      "source": [
        "description_test = data['description'][:train_size]"
      ],
      "execution_count": 0,
      "outputs": []
    },
    {
      "cell_type": "code",
      "metadata": {
        "id": "1-aPs0H2C3_B",
        "colab_type": "code",
        "colab": {}
      },
      "source": [
        "variety_test = data['variety'][:train_size]"
      ],
      "execution_count": 0,
      "outputs": []
    },
    {
      "cell_type": "code",
      "metadata": {
        "id": "ShDJsMQEC3_F",
        "colab_type": "code",
        "colab": {}
      },
      "source": [
        "labels_test = data['price'][:train_size]"
      ],
      "execution_count": 0,
      "outputs": []
    },
    {
      "cell_type": "code",
      "metadata": {
        "id": "TpkINAXyC3_I",
        "colab_type": "code",
        "colab": {}
      },
      "source": [
        "vocab_size = 12000"
      ],
      "execution_count": 0,
      "outputs": []
    },
    {
      "cell_type": "code",
      "metadata": {
        "id": "YxwC_CX7C3_L",
        "colab_type": "code",
        "colab": {}
      },
      "source": [
        "tokenize = keras.preprocessing.text.Tokenizer(num_words=vocab_size, char_level = False)"
      ],
      "execution_count": 0,
      "outputs": []
    },
    {
      "cell_type": "code",
      "metadata": {
        "id": "3xgS_PIvC3_N",
        "colab_type": "code",
        "colab": {}
      },
      "source": [
        "tokenize.fit_on_texts(description_train)"
      ],
      "execution_count": 0,
      "outputs": []
    },
    {
      "cell_type": "code",
      "metadata": {
        "id": "F-R1QROnC3_R",
        "colab_type": "code",
        "colab": {}
      },
      "source": [
        "description_bow_train = tokenize.texts_to_matrix(description_train)"
      ],
      "execution_count": 0,
      "outputs": []
    },
    {
      "cell_type": "code",
      "metadata": {
        "id": "Z7RseGBRC3_T",
        "colab_type": "code",
        "colab": {}
      },
      "source": [
        "description_bow_test = tokenize.texts_to_matrix(description_test)"
      ],
      "execution_count": 0,
      "outputs": []
    },
    {
      "cell_type": "code",
      "metadata": {
        "id": "JRLwuliDC3_W",
        "colab_type": "code",
        "colab": {}
      },
      "source": [
        "encoder = LabelEncoder()"
      ],
      "execution_count": 0,
      "outputs": []
    },
    {
      "cell_type": "code",
      "metadata": {
        "id": "Ni3c3OGPC3_Z",
        "colab_type": "code",
        "colab": {
          "base_uri": "https://localhost:8080/",
          "height": 34
        },
        "outputId": "a0030220-8692-4247-a082-437c42385ee1"
      },
      "source": [
        "encoder.fit(variety_train)"
      ],
      "execution_count": 38,
      "outputs": [
        {
          "output_type": "execute_result",
          "data": {
            "text/plain": [
              "LabelEncoder()"
            ]
          },
          "metadata": {
            "tags": []
          },
          "execution_count": 38
        }
      ]
    },
    {
      "cell_type": "code",
      "metadata": {
        "id": "TTx9ucASC3_e",
        "colab_type": "code",
        "colab": {}
      },
      "source": [
        "variety_train = encoder.transform(variety_train)"
      ],
      "execution_count": 0,
      "outputs": []
    },
    {
      "cell_type": "code",
      "metadata": {
        "id": "LqvRBcfsC3_g",
        "colab_type": "code",
        "colab": {}
      },
      "source": [
        "variety_test = encoder.transform(variety_test)"
      ],
      "execution_count": 0,
      "outputs": []
    },
    {
      "cell_type": "code",
      "metadata": {
        "id": "zaHZxpqsC3_j",
        "colab_type": "code",
        "colab": {}
      },
      "source": [
        "num_classes = np.max(variety_train)+1"
      ],
      "execution_count": 0,
      "outputs": []
    },
    {
      "cell_type": "code",
      "metadata": {
        "id": "B8w0se-HC3_m",
        "colab_type": "code",
        "colab": {}
      },
      "source": [
        "variety_train = keras.utils.to_categorical(variety_train, num_classes)"
      ],
      "execution_count": 0,
      "outputs": []
    },
    {
      "cell_type": "code",
      "metadata": {
        "id": "tDuLqd7PC3_o",
        "colab_type": "code",
        "colab": {}
      },
      "source": [
        "variety_test = keras.utils.to_categorical(variety_test, num_classes)"
      ],
      "execution_count": 0,
      "outputs": []
    },
    {
      "cell_type": "code",
      "metadata": {
        "id": "KBJeND1JC3_q",
        "colab_type": "code",
        "colab": {}
      },
      "source": [
        "bow_inputs = layers.Input(shape=(vocab_size,))"
      ],
      "execution_count": 0,
      "outputs": []
    },
    {
      "cell_type": "code",
      "metadata": {
        "id": "jlmz54QpC3_s",
        "colab_type": "code",
        "colab": {}
      },
      "source": [
        "variety_inputs = layers.Input(shape=(num_classes,))"
      ],
      "execution_count": 0,
      "outputs": []
    },
    {
      "cell_type": "code",
      "metadata": {
        "id": "Q3or6kNGC3_v",
        "colab_type": "code",
        "colab": {}
      },
      "source": [
        "merged_layer = layers.concatenate([bow_inputs, variety_inputs])"
      ],
      "execution_count": 0,
      "outputs": []
    },
    {
      "cell_type": "code",
      "metadata": {
        "id": "WJ-VdcArC3_y",
        "colab_type": "code",
        "colab": {}
      },
      "source": [
        "merged_layer = layers.Dense(256, activation='relu')(merged_layer)"
      ],
      "execution_count": 0,
      "outputs": []
    },
    {
      "cell_type": "code",
      "metadata": {
        "id": "dabne0o3C3_0",
        "colab_type": "code",
        "colab": {}
      },
      "source": [
        "predictions = layers.Dense(1)(merged_layer)"
      ],
      "execution_count": 0,
      "outputs": []
    },
    {
      "cell_type": "code",
      "metadata": {
        "id": "QmxeCL7_C3_4",
        "colab_type": "code",
        "colab": {}
      },
      "source": [
        "wide_model = keras.Model(inputs=[bow_inputs, variety_inputs], outputs=predictions)"
      ],
      "execution_count": 0,
      "outputs": []
    },
    {
      "cell_type": "code",
      "metadata": {
        "id": "FCLoWKWAC3_6",
        "colab_type": "code",
        "colab": {}
      },
      "source": [
        "wide_model.compile(loss='mse', optimizer='adam', metrics=['accuracy'])"
      ],
      "execution_count": 0,
      "outputs": []
    },
    {
      "cell_type": "code",
      "metadata": {
        "id": "9NVUQ3w_C3_9",
        "colab_type": "code",
        "colab": {
          "base_uri": "https://localhost:8080/",
          "height": 364
        },
        "outputId": "5137ec70-895c-449e-8dae-8fdb308524a5"
      },
      "source": [
        "print(wide_model.summary())"
      ],
      "execution_count": 51,
      "outputs": [
        {
          "output_type": "stream",
          "text": [
            "Model: \"model\"\n",
            "__________________________________________________________________________________________________\n",
            "Layer (type)                    Output Shape         Param #     Connected to                     \n",
            "==================================================================================================\n",
            "input_1 (InputLayer)            [(None, 12000)]      0                                            \n",
            "__________________________________________________________________________________________________\n",
            "input_2 (InputLayer)            [(None, 40)]         0                                            \n",
            "__________________________________________________________________________________________________\n",
            "concatenate (Concatenate)       (None, 12040)        0           input_1[0][0]                    \n",
            "                                                                 input_2[0][0]                    \n",
            "__________________________________________________________________________________________________\n",
            "dense (Dense)                   (None, 256)          3082496     concatenate[0][0]                \n",
            "__________________________________________________________________________________________________\n",
            "dense_1 (Dense)                 (None, 1)            257         dense[0][0]                      \n",
            "==================================================================================================\n",
            "Total params: 3,082,753\n",
            "Trainable params: 3,082,753\n",
            "Non-trainable params: 0\n",
            "__________________________________________________________________________________________________\n",
            "None\n"
          ],
          "name": "stdout"
        }
      ]
    },
    {
      "cell_type": "code",
      "metadata": {
        "id": "nOoz_uh2C4AA",
        "colab_type": "code",
        "colab": {}
      },
      "source": [
        "train_embed = tokenize.texts_to_sequences(description_train)"
      ],
      "execution_count": 0,
      "outputs": []
    },
    {
      "cell_type": "code",
      "metadata": {
        "id": "FkV32DhQC4AD",
        "colab_type": "code",
        "colab": {}
      },
      "source": [
        "test_embed = tokenize.texts_to_sequences(description_test)"
      ],
      "execution_count": 0,
      "outputs": []
    },
    {
      "cell_type": "code",
      "metadata": {
        "id": "y8h7wyzrC4AH",
        "colab_type": "code",
        "colab": {}
      },
      "source": [
        "max_seq_length = 170"
      ],
      "execution_count": 0,
      "outputs": []
    },
    {
      "cell_type": "code",
      "metadata": {
        "id": "tNyBmofwC4AK",
        "colab_type": "code",
        "colab": {}
      },
      "source": [
        "train_embed = keras.preprocessing.sequence.pad_sequences(train_embed,maxlen=max_seq_length, padding=\"post\")"
      ],
      "execution_count": 0,
      "outputs": []
    },
    {
      "cell_type": "code",
      "metadata": {
        "id": "f4pFYFmLC4AM",
        "colab_type": "code",
        "colab": {}
      },
      "source": [
        "test_embed = keras.preprocessing.sequence.pad_sequences(test_embed,maxlen=max_seq_length, padding=\"post\")"
      ],
      "execution_count": 0,
      "outputs": []
    },
    {
      "cell_type": "code",
      "metadata": {
        "id": "UbEBtK5bC4AP",
        "colab_type": "code",
        "colab": {}
      },
      "source": [
        "deep_inputs = layers.Input(shape=(max_seq_length,))"
      ],
      "execution_count": 0,
      "outputs": []
    },
    {
      "cell_type": "code",
      "metadata": {
        "id": "0FfAub0vC4AQ",
        "colab_type": "code",
        "colab": {}
      },
      "source": [
        "embedding = layers.Embedding(vocab_size,8,input_length=max_seq_length)(deep_inputs)"
      ],
      "execution_count": 0,
      "outputs": []
    },
    {
      "cell_type": "code",
      "metadata": {
        "id": "0ZeM8zvZC4AW",
        "colab_type": "code",
        "colab": {}
      },
      "source": [
        "embedding = layers.Flatten()(embedding)"
      ],
      "execution_count": 0,
      "outputs": []
    },
    {
      "cell_type": "code",
      "metadata": {
        "id": "uf3AYNjDC4AX",
        "colab_type": "code",
        "colab": {}
      },
      "source": [
        "embed_out = layers.Dense(1)(embedding)"
      ],
      "execution_count": 0,
      "outputs": []
    },
    {
      "cell_type": "code",
      "metadata": {
        "id": "V9PlcnqZC4Aa",
        "colab_type": "code",
        "colab": {}
      },
      "source": [
        "deep_model = keras.Model(inputs=deep_inputs,outputs=embed_out)"
      ],
      "execution_count": 0,
      "outputs": []
    },
    {
      "cell_type": "code",
      "metadata": {
        "id": "xD2RUhObC4Ac",
        "colab_type": "code",
        "colab": {
          "base_uri": "https://localhost:8080/",
          "height": 312
        },
        "outputId": "69e640c5-0f1b-4827-afa0-fc377337bf05"
      },
      "source": [
        "print(deep_model.summary())"
      ],
      "execution_count": 62,
      "outputs": [
        {
          "output_type": "stream",
          "text": [
            "Model: \"model_1\"\n",
            "_________________________________________________________________\n",
            "Layer (type)                 Output Shape              Param #   \n",
            "=================================================================\n",
            "input_3 (InputLayer)         [(None, 170)]             0         \n",
            "_________________________________________________________________\n",
            "embedding (Embedding)        (None, 170, 8)            96000     \n",
            "_________________________________________________________________\n",
            "flatten (Flatten)            (None, 1360)              0         \n",
            "_________________________________________________________________\n",
            "dense_2 (Dense)              (None, 1)                 1361      \n",
            "=================================================================\n",
            "Total params: 97,361\n",
            "Trainable params: 97,361\n",
            "Non-trainable params: 0\n",
            "_________________________________________________________________\n",
            "None\n"
          ],
          "name": "stdout"
        }
      ]
    },
    {
      "cell_type": "code",
      "metadata": {
        "id": "E7_vHrJ0C4Af",
        "colab_type": "code",
        "colab": {}
      },
      "source": [
        "deep_model.compile(loss='mse',optimizer='adam',metrics=['accuracy'])"
      ],
      "execution_count": 0,
      "outputs": []
    },
    {
      "cell_type": "code",
      "metadata": {
        "id": "nKHUxnKaC4Ai",
        "colab_type": "code",
        "colab": {}
      },
      "source": [
        "merged_out = layers.concatenate([wide_model.output,deep_model.output])"
      ],
      "execution_count": 0,
      "outputs": []
    },
    {
      "cell_type": "code",
      "metadata": {
        "id": "auZnRaF8C4Ak",
        "colab_type": "code",
        "colab": {}
      },
      "source": [
        "merged_out = layers.Dense(1)(merged_out)"
      ],
      "execution_count": 0,
      "outputs": []
    },
    {
      "cell_type": "code",
      "metadata": {
        "id": "cAT4ZyBVC4An",
        "colab_type": "code",
        "colab": {}
      },
      "source": [
        "combined_model = keras.Model(wide_model.input+[deep_model.input], merged_out)"
      ],
      "execution_count": 0,
      "outputs": []
    },
    {
      "cell_type": "code",
      "metadata": {
        "id": "P4sifJqYC4Aq",
        "colab_type": "code",
        "colab": {
          "base_uri": "https://localhost:8080/",
          "height": 590
        },
        "outputId": "51fc1710-e449-47fe-d3eb-4f13a3088778"
      },
      "source": [
        "print(combined_model.summary())"
      ],
      "execution_count": 67,
      "outputs": [
        {
          "output_type": "stream",
          "text": [
            "Model: \"model_2\"\n",
            "__________________________________________________________________________________________________\n",
            "Layer (type)                    Output Shape         Param #     Connected to                     \n",
            "==================================================================================================\n",
            "input_1 (InputLayer)            [(None, 12000)]      0                                            \n",
            "__________________________________________________________________________________________________\n",
            "input_2 (InputLayer)            [(None, 40)]         0                                            \n",
            "__________________________________________________________________________________________________\n",
            "input_3 (InputLayer)            [(None, 170)]        0                                            \n",
            "__________________________________________________________________________________________________\n",
            "concatenate (Concatenate)       (None, 12040)        0           input_1[0][0]                    \n",
            "                                                                 input_2[0][0]                    \n",
            "__________________________________________________________________________________________________\n",
            "embedding (Embedding)           (None, 170, 8)       96000       input_3[0][0]                    \n",
            "__________________________________________________________________________________________________\n",
            "dense (Dense)                   (None, 256)          3082496     concatenate[0][0]                \n",
            "__________________________________________________________________________________________________\n",
            "flatten (Flatten)               (None, 1360)         0           embedding[0][0]                  \n",
            "__________________________________________________________________________________________________\n",
            "dense_1 (Dense)                 (None, 1)            257         dense[0][0]                      \n",
            "__________________________________________________________________________________________________\n",
            "dense_2 (Dense)                 (None, 1)            1361        flatten[0][0]                    \n",
            "__________________________________________________________________________________________________\n",
            "concatenate_1 (Concatenate)     (None, 2)            0           dense_1[0][0]                    \n",
            "                                                                 dense_2[0][0]                    \n",
            "__________________________________________________________________________________________________\n",
            "dense_3 (Dense)                 (None, 1)            3           concatenate_1[0][0]              \n",
            "==================================================================================================\n",
            "Total params: 3,180,117\n",
            "Trainable params: 3,180,117\n",
            "Non-trainable params: 0\n",
            "__________________________________________________________________________________________________\n",
            "None\n"
          ],
          "name": "stdout"
        }
      ]
    },
    {
      "cell_type": "code",
      "metadata": {
        "id": "eJ2ab6kxC4Ar",
        "colab_type": "code",
        "colab": {}
      },
      "source": [
        "combined_model.compile(loss='mse', optimizer='adam', metrics=['accuracy'])"
      ],
      "execution_count": 0,
      "outputs": []
    },
    {
      "cell_type": "code",
      "metadata": {
        "id": "WyIicr-NC4Au",
        "colab_type": "code",
        "colab": {
          "base_uri": "https://localhost:8080/",
          "height": 1000
        },
        "outputId": "b5f71684-bfa0-4978-8013-0b73e1e14d63"
      },
      "source": [
        "combined_model.fit([description_bow_train,variety_train]+[train_embed],labels_train, epochs=30, batch_size=128)"
      ],
      "execution_count": 69,
      "outputs": [
        {
          "output_type": "stream",
          "text": [
            "Epoch 1/30\n",
            "561/561 [==============================] - 14s 25ms/step - loss: 1132.9896 - accuracy: 0.0000e+00\n",
            "Epoch 2/30\n",
            "561/561 [==============================] - 14s 26ms/step - loss: 885.3987 - accuracy: 0.0000e+00\n",
            "Epoch 3/30\n",
            "561/561 [==============================] - 14s 25ms/step - loss: 764.4521 - accuracy: 0.0000e+00\n",
            "Epoch 4/30\n",
            "561/561 [==============================] - 14s 26ms/step - loss: 652.7920 - accuracy: 0.0000e+00\n",
            "Epoch 5/30\n",
            "561/561 [==============================] - 14s 25ms/step - loss: 547.0659 - accuracy: 0.0000e+00\n",
            "Epoch 6/30\n",
            "561/561 [==============================] - 15s 26ms/step - loss: 446.3913 - accuracy: 0.0000e+00\n",
            "Epoch 7/30\n",
            "561/561 [==============================] - 14s 25ms/step - loss: 355.9033 - accuracy: 0.0000e+00\n",
            "Epoch 8/30\n",
            "561/561 [==============================] - 14s 26ms/step - loss: 281.3634 - accuracy: 0.0000e+00\n",
            "Epoch 9/30\n",
            "561/561 [==============================] - 14s 26ms/step - loss: 217.2390 - accuracy: 0.0000e+00\n",
            "Epoch 10/30\n",
            "561/561 [==============================] - 14s 26ms/step - loss: 164.8044 - accuracy: 0.0000e+00\n",
            "Epoch 11/30\n",
            "561/561 [==============================] - 14s 25ms/step - loss: 125.8008 - accuracy: 0.0000e+00\n",
            "Epoch 12/30\n",
            "561/561 [==============================] - 14s 26ms/step - loss: 97.0396 - accuracy: 0.0000e+00\n",
            "Epoch 13/30\n",
            "561/561 [==============================] - 15s 26ms/step - loss: 76.4192 - accuracy: 0.0000e+00\n",
            "Epoch 14/30\n",
            "561/561 [==============================] - 14s 26ms/step - loss: 61.4567 - accuracy: 0.0000e+00\n",
            "Epoch 15/30\n",
            "561/561 [==============================] - 15s 26ms/step - loss: 48.7395 - accuracy: 0.0000e+00\n",
            "Epoch 16/30\n",
            "561/561 [==============================] - 14s 26ms/step - loss: 39.4481 - accuracy: 0.0000e+00\n",
            "Epoch 17/30\n",
            "561/561 [==============================] - 14s 26ms/step - loss: 32.5097 - accuracy: 0.0000e+00\n",
            "Epoch 18/30\n",
            "561/561 [==============================] - 14s 26ms/step - loss: 27.0508 - accuracy: 0.0000e+00\n",
            "Epoch 19/30\n",
            "561/561 [==============================] - 14s 25ms/step - loss: 25.4594 - accuracy: 0.0000e+00\n",
            "Epoch 20/30\n",
            "561/561 [==============================] - 15s 26ms/step - loss: 23.4597 - accuracy: 0.0000e+00\n",
            "Epoch 21/30\n",
            "561/561 [==============================] - 14s 26ms/step - loss: 20.5455 - accuracy: 0.0000e+00\n",
            "Epoch 22/30\n",
            "561/561 [==============================] - 14s 26ms/step - loss: 18.5114 - accuracy: 0.0000e+00\n",
            "Epoch 23/30\n",
            "561/561 [==============================] - 14s 26ms/step - loss: 18.1197 - accuracy: 0.0000e+00\n",
            "Epoch 24/30\n",
            "561/561 [==============================] - 14s 25ms/step - loss: 17.0772 - accuracy: 0.0000e+00\n",
            "Epoch 25/30\n",
            "561/561 [==============================] - 14s 26ms/step - loss: 16.0663 - accuracy: 0.0000e+00\n",
            "Epoch 26/30\n",
            "561/561 [==============================] - 14s 26ms/step - loss: 15.8966 - accuracy: 0.0000e+00\n",
            "Epoch 27/30\n",
            "561/561 [==============================] - 15s 26ms/step - loss: 14.8807 - accuracy: 0.0000e+00\n",
            "Epoch 28/30\n",
            "561/561 [==============================] - 14s 26ms/step - loss: 13.3543 - accuracy: 0.0000e+00\n",
            "Epoch 29/30\n",
            "561/561 [==============================] - 14s 26ms/step - loss: 14.9268 - accuracy: 0.0000e+00\n",
            "Epoch 30/30\n",
            "561/561 [==============================] - 14s 26ms/step - loss: 15.2187 - accuracy: 0.0000e+00\n"
          ],
          "name": "stdout"
        },
        {
          "output_type": "execute_result",
          "data": {
            "text/plain": [
              "<tensorflow.python.keras.callbacks.History at 0x7ff92d00e668>"
            ]
          },
          "metadata": {
            "tags": []
          },
          "execution_count": 69
        }
      ]
    },
    {
      "cell_type": "code",
      "metadata": {
        "id": "ZATZu7FuC4Aw",
        "colab_type": "code",
        "colab": {
          "base_uri": "https://localhost:8080/",
          "height": 52
        },
        "outputId": "63bfcd7d-fce0-4547-fc1b-6abc3239d1a5"
      },
      "source": [
        "combined_model.evaluate([description_bow_test,variety_test]+[test_embed], labels_test, batch_size=128)"
      ],
      "execution_count": 70,
      "outputs": [
        {
          "output_type": "stream",
          "text": [
            "561/561 [==============================] - 7s 12ms/step - loss: 13.2566 - accuracy: 0.0000e+00\n"
          ],
          "name": "stdout"
        },
        {
          "output_type": "execute_result",
          "data": {
            "text/plain": [
              "[13.256608009338379, 0.0]"
            ]
          },
          "metadata": {
            "tags": []
          },
          "execution_count": 70
        }
      ]
    },
    {
      "cell_type": "code",
      "metadata": {
        "id": "5OL_CHodMxUV",
        "colab_type": "code",
        "colab": {}
      },
      "source": [
        "predictions = combined_model.predict([description_bow_test, variety_test]+ [test_embed])"
      ],
      "execution_count": 0,
      "outputs": []
    },
    {
      "cell_type": "code",
      "metadata": {
        "id": "9FhPYjEFXL-n",
        "colab_type": "code",
        "colab": {
          "base_uri": "https://localhost:8080/",
          "height": 1000
        },
        "outputId": "ae88de02-2f8a-4b37-f916-3bf95a34b08f"
      },
      "source": [
        "num_predictions = 40\n",
        "diff = 0\n",
        "\n",
        "for i in range(num_predictions):\n",
        "    val = predictions[i]\n",
        "    print(description_test.iloc[i])\n",
        "    print('Predicted : ', val[0], 'Actual : ',labels_test.iloc[i], '\\n')\n",
        "    diff += abs(val[0]-labels_test.iloc[i])\n"
      ],
      "execution_count": 72,
      "outputs": [
        {
          "output_type": "stream",
          "text": [
            "A solid wine. At the equivalent of $5 for a regular bottle, it offers plenty of Cabernet flavor and texture, with smooth tannins framing flavors of blackberries, currants and spices.\n",
            "Predicted :  9.141994 Actual :  10.0 \n",
            "\n",
            "This wine makes you work harder than many of its neighbors to find the flavor but it's worth the effort when you uncover an intriguing mélange of hay, apricot and early summer fruits. The crisp, minerally finish puts one in mind of a platter of choucroute garnie. Drink now to 2013.\n",
            "Predicted :  13.606025 Actual :  15.0 \n",
            "\n",
            "With moderate alcohol, this Pinot is silky and delicate in the mouth, with excellent acidity. Yet it's intense in sunshiney-ripe raspberries and cherries, as well as a hint of mushrooms that will become more pronounced with age. Defines the lighter style of California Pinot, in a gracious, elegant style.\n",
            "Predicted :  38.635174 Actual :  38.0 \n",
            "\n",
            "Light nuances of baking spice and forest floor grace the notes of lively black cherry and raspberry. The velvety mouthfeel is juicy and fruit forward, with a jammy richness that transitions onto the long finish, alongside a touch of black pepper.\n",
            "Predicted :  17.6113 Actual :  15.0 \n",
            "\n",
            "There's lots of exotic Viognier character packed into this fruity, slightly sweet wine. It's powerful in peach and pineapple flavors that are so ripe, they taste like melted jelly, with a hit of alcohol.\n",
            "Predicted :  20.882929 Actual :  22.0 \n",
            "\n",
            "Big on the nose, with regionally typical aromas of mineral, black fruit and herbs. The palate is a touch rough and hot, but it houses forward black plum, raisin and chocolate cake flavors. Fleshy and pretty big, but sort of wayward on the finish. Shows good structure and power. Imported by Grapes of Spain.\n",
            "Predicted :  42.800266 Actual :  41.0 \n",
            "\n",
            "Made from Cold Creek and Wahluke Slope fruit, this pure Syrah is compact and dense, and it reveals blueberry and boysenberry flavors that are set in a frame of coffee-flavored tannins. The acids are suggestive of lemon verbena, and the 15.5% alcohol shows a little heat in the the throat.\n",
            "Predicted :  35.94721 Actual :  35.0 \n",
            "\n",
            "There's added dimension here in the form of light smoke, banana and peach that frame this luminous Pinot Grigio. This expression is also creamier and softer in the mouth as compared to your standard Grigio and would therefore pair with first courses or seafood.\n",
            "Predicted :  15.134694 Actual :  15.0 \n",
            "\n",
            "Almost too much of a good thing, Passo is a thick, jammy and modern blend of traditional Italian grapes and international varieties such as Cabernet Sauvignon and Merlot. This is a bold, big wine with a thick, chewy mouthfeel that should be paired with aged cheese or succulent meat.\n",
            "Predicted :  33.282787 Actual :  35.0 \n",
            "\n",
            "This blend of Cabernet, Merlot and Syrah shows a decadently soft side thanks to its aromas of black cherry, tobacco, chocolate and subtle spice. It delivers density and substance on the finish and would pair with pasta and creamy porcini sauce.\n",
            "Predicted :  30.20857 Actual :  31.0 \n",
            "\n",
            "Smokey, toasted qualities are backed by ample cherry, coffee, molasses, white peppercorn and pine resin. Elegant and restrained without overt intensity, but well integrated and velvety in the mouth with drying tannins. Imported by Superior Wines LLC.\n",
            "Predicted :  51.500107 Actual :  50.0 \n",
            "\n",
            "This blend of Cabernet Sauvignon, Cabernet Franc, Merlot and Sangiovese shows bright aromas of cassis and blackberry. Light touches of spice and leather lend the finish heft and determination.\n",
            "Predicted :  37.475803 Actual :  40.0 \n",
            "\n",
            "Earthy whiffs of dust and pollen belie radiant flavors of mango and peach on the palate. It's a ripe, rather voluptuous beerenauslese, yet elegantly honed along a line of tart tangerine acidity. Complex and layered, it keeps the palate on its toes through a long, exciting ride.\n",
            "Predicted :  59.06984 Actual :  65.0 \n",
            "\n",
            "The line between tart gooseberries and that strong ammonia smell is a thin one. This Sauvignon Blanc steps just over the edge. The price is fine, and the wine is dry and crisp in citrus fruit flavors, but it is a little too green.\n",
            "Predicted :  13.959655 Actual :  14.0 \n",
            "\n",
            "Drier and earthier than many Napa Cabs these days, this wine has subtle sage and sweet licorice that grounds its fruitier flavors of blackberries, cherries and raspberries. Very beautiful are the tannins, which are rich and pure, suggesting perfect ripeness. The small Bosché bottling has been a premier one for the winery for many years, and this '05 is one of the best in memory. Should age effortlessly for at least a dozen years.\n",
            "Predicted :  75.02626 Actual :  70.0 \n",
            "\n",
            "Unusually subdued nose of pear and mineral leads to a nuanced palate of pear, papaya and kiwi that's noticeably sweet. There could be more flavor and persistence though a high level of concentration is evident. A good complement to spicy Asian food. Drink now.\n",
            "Predicted :  53.92225 Actual :  55.0 \n",
            "\n",
            "This Barbera d'Alba from the warm 2005 vintage definitely seems past its prime. The wine is browning and dark with aromas of candied fruit and dried beef. The mouthfeel, however, is pleasantly marked by crisp, spicy freshness.\n",
            "Predicted :  20.835268 Actual :  20.0 \n",
            "\n",
            "From old vines on chalky soil, this wine minerality as well as concentration. It is crisp but full, ripe but fresh. There's a touch of spiciness to complement the ripe green plum and apple skin flavors.\n",
            "Predicted :  29.48213 Actual :  30.0 \n",
            "\n",
            "Managed by Jean-Hubert Delon of Léoville Las Cases, this is without equal in the Medoc appellation. It shows breeding, depth of flavor, beautifully crafted tannins and fine, rich fruit without the overripeness so characteristic of 2003. With its structure, acidity and delicious fruit, this will age as well as any wine from a more classy appellation.\n",
            "Predicted :  25.778694 Actual :  20.0 \n",
            "\n",
            "Menthol and sweet sage aromas leap off this wine from Steve Clifton. They spice up the black cherry and blackberry juice backbone that comes from this Nipomo vineyard, located seven miles from the Pacific. The palate shows lots of energetic verve, with flavors of dried cranberries, raspberries, licorice and slate, finishing long on a sagebrush-driven sense of chaparral.\n",
            "Predicted :  40.72726 Actual :  40.0 \n",
            "\n",
            "Tremenel has an earthy fragrance of underbrush, tobacco and ripe black fruit with a whiff of spice. The palate delivers a tight core of black cherry layered with raisin, white pepper, nutmeg and cocoa backed up by bracing but refined tannins.\n",
            "Predicted :  63.211403 Actual :  65.0 \n",
            "\n",
            "The bubbles are a little scoury on this delightfully dry rosé, which makes it feel rough in the mouth. Aside from that, it's rich and complex in orange, strawberry, vanilla and yeasty flavors.\n",
            "Predicted :  27.284826 Actual :  28.0 \n",
            "\n",
            "Popcorn, green-apple and scallion aromas precede crisp, tart flavors of barely ripe peach and grapefruit. The finish is short and citrusy, boosted by choppy acids. Racy but not rich.\n",
            "Predicted :  10.752322 Actual :  10.0 \n",
            "\n",
            "A touch of peach colors the white and green fruit notes of this zippy white, its freshness amplified by a slight spritz. It's light bodied, dry and very refreshing, with a lovely herbal edge on the palate.\n",
            "Predicted :  14.317002 Actual :  14.0 \n",
            "\n",
            "This is an extraordinarily lush and tropical Chardonnay, yet one that manages to achieve this without excessive alcohol or weight. Guava and pineapple fruit is framed by just enough toasty oak, while the texture is almost custard-like. Best in the next year or two.\n",
            "Predicted :  31.91607 Actual :  30.0 \n",
            "\n",
            "Smells ripe, with melon and passion fruit predominating, but by the finish Marlborough's trademark green-pepper and grapefruit flavors come on strong—maybe too assertively for some tasters. Crisp and dry; a good palate refresher.\n",
            "Predicted :  18.356817 Actual :  15.0 \n",
            "\n",
            "A dry, tannic Zinfandel from Amador, fairly large production at 14,000 cases a year, with enough blueberry, sweet black olive and spice on the finish to make the whole package a nicely made bottling from a Sierra Foothills Zin specialist.\n",
            "Predicted :  17.046307 Actual :  18.0 \n",
            "\n",
            "Lush, polished and detailed, this is as elegant as any Washington Syrah can be. Intensely fruity with lively raspberries and plums, it layers in details of earth, mushroom, pepper and herb, leading to a perfectly balanced, structured finish.\n",
            "Predicted :  43.627243 Actual :  40.0 \n",
            "\n",
            "Young and sturdy, with pear and apple aromas enveloped in popcorn and wood. The palate offers standard New World weight and sweetness along with flavors of pear, vanilla and oak. More on the full-bodied, oaky side, but generally it's balanced and approachable.\n",
            "Predicted :  8.734801 Actual :  9.0 \n",
            "\n",
            "Simple, soft and sweet, with the flavors of a cherry, chocolate, roasted nut and nougat health bar.\n",
            "Predicted :  20.548904 Actual :  20.0 \n",
            "\n",
            "Brambly fruit, loam, pencil lead and tarry notes morph into a high acid, thickly tannic mouthfeel. Spicy plum and pie cherry fruit thins out quickly, with a lightly toasty finish.\n",
            "Predicted :  20.096369 Actual :  25.0 \n",
            "\n",
            "Made from Syrah, Mourvedre and Grenache, this is a fairly ordinary red wine, with cherry, currant, smoke, spice and herb flavors. Drink now.\n",
            "Predicted :  28.383518 Actual :  28.0 \n",
            "\n",
            "This is fruity but simple on the nose, with plum and cherry aromas. It feels jammy and a touch muddled, with boysenberry, plum and blackberry flavors but not much oak character. It's grippy on the finish.\n",
            "Predicted :  13.790423 Actual :  15.0 \n",
            "\n",
            "Here's one of the bigger, more dramatic Russian River Pinots of the vintage. Dark, medium- to full-bodied and fairly tannic, the wine needs time to throw off some weight and reveal its pretty cherry fruit. Hold until 2008; should drink well through 2012.\n",
            "Predicted :  57.262672 Actual :  55.0 \n",
            "\n",
            "This tastes sweet, with vanilla, honey and orange jam flavors. It's clean and brisk in acidity. Pair it with everyday fare.\n",
            "Predicted :  10.709162 Actual :  9.0 \n",
            "\n",
            "Rich and packed with ripe Merlot-based fruit, this is a solid wine, with a berry flavor and tannins. The delicious, juicy flavors speak to the ripe fruit that needs several years to fully mellow and integrate.\n",
            "Predicted :  29.352354 Actual :  30.0 \n",
            "\n",
            "Going for a mineral character, the wine has freshness and also crisp lime, pineapple and caramel flavors. Light in feel, finely textured, almost steely.\n",
            "Predicted :  52.917 Actual :  54.0 \n",
            "\n",
            "Bright, rich and succulent. This medium-bodied, fruity wine shows finely ground tannins and a silky texture, framing cherry, red currant, anise and sandalwood flavors. Lovely and easy to like.\n",
            "Predicted :  29.967604 Actual :  32.0 \n",
            "\n",
            "For the second year running, this bottling is a superb Zinfandel. It's as rich and ripe as they get, bursting with fresh raspberries, cherries and mocha, and that briary, brambly quality of wild forest nettles. Yet it's thoroughly dry, with thick, refined tannins. Beautiful now for its effusive fruit, the wine should slowly slide over the next six years.\n",
            "Predicted :  30.83044 Actual :  32.0 \n",
            "\n",
            "Deliciously round and spicy, this has attractive berry flavors wrapped around a hint of roasted coffee bean. A masculine, intense and layered wine, it has balanced acidity that makes its flavors pop.\n",
            "Predicted :  25.0487 Actual :  28.0 \n",
            "\n"
          ],
          "name": "stdout"
        }
      ]
    },
    {
      "cell_type": "code",
      "metadata": {
        "id": "aQoLrL5_Zso6",
        "colab_type": "code",
        "colab": {
          "base_uri": "https://localhost:8080/",
          "height": 34
        },
        "outputId": "d659e997-d820-40b9-f384-9295119c687f"
      },
      "source": [
        "print('Average prediction difference : ', diff/num_predictions)"
      ],
      "execution_count": 73,
      "outputs": [
        {
          "output_type": "stream",
          "text": [
            "Average prediction difference :  1.713943362236023\n"
          ],
          "name": "stdout"
        }
      ]
    }
  ]
}